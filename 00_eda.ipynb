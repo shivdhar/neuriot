{
 "cells": [
  {
   "cell_type": "code",
   "execution_count": 1,
   "id": "d8331628-79c3-472c-b42a-54c5bbef8a35",
   "metadata": {},
   "outputs": [
    {
     "data": {
      "text/plain": [
       "432"
      ]
     },
     "execution_count": 1,
     "metadata": {},
     "output_type": "execute_result"
    }
   ],
   "source": [
    "import os\n",
    "os.getpid()"
   ]
  },
  {
   "cell_type": "code",
   "execution_count": 2,
   "id": "4affbe70-88ab-443e-a3d9-1e48c05e9814",
   "metadata": {},
   "outputs": [],
   "source": [
    "from pathlib import Path\n",
    "\n",
    "import pandas as pd\n",
    "import numpy as np\n",
    "\n",
    "from tqdm.auto import tqdm\n",
    "tqdm.pandas()\n",
    "\n",
    "import torch\n",
    "from torch.utils.data import Dataset"
   ]
  },
  {
   "cell_type": "code",
   "execution_count": 3,
   "id": "0425b373-007d-4de9-bc2b-c9cf361d0370",
   "metadata": {},
   "outputs": [],
   "source": [
    "df = pd.read_csv('data/NLP_task1/Evaluation-dataset.csv', header=None)"
   ]
  },
  {
   "cell_type": "code",
   "execution_count": 4,
   "id": "2235346f-f873-48c4-b317-a4d7b5031b73",
   "metadata": {},
   "outputs": [
    {
     "data": {
      "text/html": [
       "<div>\n",
       "<style scoped>\n",
       "    .dataframe tbody tr th:only-of-type {\n",
       "        vertical-align: middle;\n",
       "    }\n",
       "\n",
       "    .dataframe tbody tr th {\n",
       "        vertical-align: top;\n",
       "    }\n",
       "\n",
       "    .dataframe thead th {\n",
       "        text-align: right;\n",
       "    }\n",
       "</style>\n",
       "<table border=\"1\" class=\"dataframe\">\n",
       "  <thead>\n",
       "    <tr style=\"text-align: right;\">\n",
       "      <th></th>\n",
       "      <th>review</th>\n",
       "      <th>1</th>\n",
       "      <th>2</th>\n",
       "      <th>3</th>\n",
       "      <th>4</th>\n",
       "      <th>5</th>\n",
       "      <th>6</th>\n",
       "      <th>7</th>\n",
       "      <th>8</th>\n",
       "      <th>9</th>\n",
       "      <th>10</th>\n",
       "      <th>11</th>\n",
       "      <th>12</th>\n",
       "      <th>13</th>\n",
       "      <th>14</th>\n",
       "    </tr>\n",
       "  </thead>\n",
       "  <tbody>\n",
       "    <tr>\n",
       "      <th>6754</th>\n",
       "      <td>Fast and efficient service</td>\n",
       "      <td>NaN</td>\n",
       "      <td>NaN</td>\n",
       "      <td>NaN</td>\n",
       "      <td>NaN</td>\n",
       "      <td>NaN</td>\n",
       "      <td>NaN</td>\n",
       "      <td>NaN</td>\n",
       "      <td>NaN</td>\n",
       "      <td>NaN</td>\n",
       "      <td>NaN</td>\n",
       "      <td>NaN</td>\n",
       "      <td>NaN</td>\n",
       "      <td>NaN</td>\n",
       "      <td>NaN</td>\n",
       "    </tr>\n",
       "    <tr>\n",
       "      <th>6106</th>\n",
       "      <td>would buy this product again</td>\n",
       "      <td>NaN</td>\n",
       "      <td>NaN</td>\n",
       "      <td>NaN</td>\n",
       "      <td>NaN</td>\n",
       "      <td>NaN</td>\n",
       "      <td>NaN</td>\n",
       "      <td>NaN</td>\n",
       "      <td>NaN</td>\n",
       "      <td>NaN</td>\n",
       "      <td>NaN</td>\n",
       "      <td>NaN</td>\n",
       "      <td>NaN</td>\n",
       "      <td>NaN</td>\n",
       "      <td>NaN</td>\n",
       "    </tr>\n",
       "  </tbody>\n",
       "</table>\n",
       "</div>"
      ],
      "text/plain": [
       "                            review    1    2    3    4    5    6    7    8  \\\n",
       "6754    Fast and efficient service  NaN  NaN  NaN  NaN  NaN  NaN  NaN  NaN   \n",
       "6106  would buy this product again  NaN  NaN  NaN  NaN  NaN  NaN  NaN  NaN   \n",
       "\n",
       "        9   10   11   12   13   14  \n",
       "6754  NaN  NaN  NaN  NaN  NaN  NaN  \n",
       "6106  NaN  NaN  NaN  NaN  NaN  NaN  "
      ]
     },
     "execution_count": 4,
     "metadata": {},
     "output_type": "execute_result"
    }
   ],
   "source": [
    "df = df.rename({0: 'review'}, axis=1)\n",
    "df.sample(2)"
   ]
  },
  {
   "cell_type": "code",
   "execution_count": 5,
   "id": "894fc346-87b8-43f1-84ee-d92e1259f3be",
   "metadata": {},
   "outputs": [
    {
     "data": {
      "text/html": [
       "<div>\n",
       "<style scoped>\n",
       "    .dataframe tbody tr th:only-of-type {\n",
       "        vertical-align: middle;\n",
       "    }\n",
       "\n",
       "    .dataframe tbody tr th {\n",
       "        vertical-align: top;\n",
       "    }\n",
       "\n",
       "    .dataframe thead th {\n",
       "        text-align: right;\n",
       "    }\n",
       "</style>\n",
       "<table border=\"1\" class=\"dataframe\">\n",
       "  <thead>\n",
       "    <tr style=\"text-align: right;\">\n",
       "      <th></th>\n",
       "      <th>1</th>\n",
       "      <th>2</th>\n",
       "      <th>3</th>\n",
       "      <th>4</th>\n",
       "      <th>5</th>\n",
       "      <th>6</th>\n",
       "      <th>7</th>\n",
       "      <th>8</th>\n",
       "      <th>9</th>\n",
       "      <th>10</th>\n",
       "      <th>11</th>\n",
       "      <th>12</th>\n",
       "      <th>13</th>\n",
       "      <th>14</th>\n",
       "    </tr>\n",
       "  </thead>\n",
       "  <tbody>\n",
       "    <tr>\n",
       "      <th>6313</th>\n",
       "      <td>NaN</td>\n",
       "      <td>NaN</td>\n",
       "      <td>NaN</td>\n",
       "      <td>NaN</td>\n",
       "      <td>NaN</td>\n",
       "      <td>NaN</td>\n",
       "      <td>NaN</td>\n",
       "      <td>NaN</td>\n",
       "      <td>NaN</td>\n",
       "      <td>NaN</td>\n",
       "      <td>NaN</td>\n",
       "      <td>NaN</td>\n",
       "      <td>NaN</td>\n",
       "      <td>NaN</td>\n",
       "    </tr>\n",
       "    <tr>\n",
       "      <th>8525</th>\n",
       "      <td>NaN</td>\n",
       "      <td>NaN</td>\n",
       "      <td>NaN</td>\n",
       "      <td>NaN</td>\n",
       "      <td>NaN</td>\n",
       "      <td>NaN</td>\n",
       "      <td>NaN</td>\n",
       "      <td>NaN</td>\n",
       "      <td>NaN</td>\n",
       "      <td>NaN</td>\n",
       "      <td>NaN</td>\n",
       "      <td>NaN</td>\n",
       "      <td>NaN</td>\n",
       "      <td>NaN</td>\n",
       "    </tr>\n",
       "  </tbody>\n",
       "</table>\n",
       "</div>"
      ],
      "text/plain": [
       "        1    2    3    4    5    6    7    8    9   10   11   12   13   14\n",
       "6313  NaN  NaN  NaN  NaN  NaN  NaN  NaN  NaN  NaN  NaN  NaN  NaN  NaN  NaN\n",
       "8525  NaN  NaN  NaN  NaN  NaN  NaN  NaN  NaN  NaN  NaN  NaN  NaN  NaN  NaN"
      ]
     },
     "execution_count": 5,
     "metadata": {},
     "output_type": "execute_result"
    }
   ],
   "source": [
    "aspects_df = df.drop('review', axis=1)\n",
    "aspects_df.sample(2)"
   ]
  },
  {
   "cell_type": "code",
   "execution_count": 6,
   "id": "95ce900c-d970-461f-b46b-86702f8965a7",
   "metadata": {},
   "outputs": [],
   "source": [
    "labels_series = pd.Series(aspects_df.values.ravel())"
   ]
  },
  {
   "cell_type": "code",
   "execution_count": 7,
   "id": "939a832b-2f14-4628-9ebb-99e40b452ded",
   "metadata": {},
   "outputs": [
    {
     "data": {
      "text/plain": [
       "<AxesSubplot:>"
      ]
     },
     "execution_count": 7,
     "metadata": {},
     "output_type": "execute_result"
    },
    {
     "data": {
      "image/png": "[encoded data removed]",
      "text/plain": [
       "<Figure size 432x288 with 1 Axes>"
      ]
     },
     "metadata": {
      "needs_background": "light"
     },
     "output_type": "display_data"
    }
   ],
   "source": [
    "labels_series.value_counts().plot(kind='bar')"
   ]
  },
  {
   "cell_type": "code",
   "execution_count": 8,
   "id": "8d6e1c89-4823-4ec9-ae53-d196ec92387a",
   "metadata": {},
   "outputs": [],
   "source": [
    "labels = sorted(pd.unique(labels_series.dropna()))"
   ]
  },
  {
   "cell_type": "code",
   "execution_count": 9,
   "id": "7d3d3180-fa81-4712-8c0e-6ae709304fbf",
   "metadata": {},
   "outputs": [
    {
     "data": {
      "text/plain": [
       "62"
      ]
     },
     "execution_count": 9,
     "metadata": {},
     "output_type": "execute_result"
    }
   ],
   "source": [
    "len(labels)"
   ]
  },
  {
   "cell_type": "code",
   "execution_count": 10,
   "id": "e9133d00-aefa-4bdf-ba79-65244fb38a97",
   "metadata": {},
   "outputs": [
    {
     "data": {
      "text/plain": [
       "['advisor/agent service negative',\n",
       " 'advisor/agent service positive',\n",
       " 'advisoragent service negative',\n",
       " 'advisoragent service positive',\n",
       " 'balancing negative',\n",
       " 'balancing positive',\n",
       " 'booking confusion negative',\n",
       " 'booking confusion positive',\n",
       " 'call wait time negative',\n",
       " 'call wait time positive',\n",
       " 'change of date negative',\n",
       " 'change of date positive',\n",
       " 'change of time negative',\n",
       " 'change of time positive',\n",
       " 'damage negative',\n",
       " 'delivery punctuality negative',\n",
       " 'delivery punctuality positive',\n",
       " 'discount not applied negative',\n",
       " 'discount not applied positive',\n",
       " 'discounts negative',\n",
       " 'discounts positive',\n",
       " 'ease of booking negative',\n",
       " 'ease of booking positive',\n",
       " 'extra charges negative',\n",
       " 'extra charges positive',\n",
       " 'facilities negative',\n",
       " 'facilities positive',\n",
       " 'failed payment negative',\n",
       " 'failed payment positive',\n",
       " 'garage service negative',\n",
       " 'garage service positive',\n",
       " 'incorrect tyres sent negative',\n",
       " 'incorrect tyres sent positive',\n",
       " 'late notice negative',\n",
       " 'late notice positive',\n",
       " 'length of fitting negative',\n",
       " 'length of fitting positive',\n",
       " 'location negative',\n",
       " 'location positive',\n",
       " \"mobile fitter didn't arrive negative\",\n",
       " \"mobile fitter didn't arrive positive\",\n",
       " 'mobile fitter negative',\n",
       " 'mobile fitter positive',\n",
       " 'no stock negative',\n",
       " 'no stock positive',\n",
       " 'refund negative',\n",
       " 'refund not actioned negative',\n",
       " 'refund not actioned positive',\n",
       " 'refund positive',\n",
       " 'refund timescale negative',\n",
       " 'refund timescale positive',\n",
       " 'response time negative',\n",
       " 'response time positive',\n",
       " 'tyre age/dot code negative',\n",
       " 'tyre agedot code negative',\n",
       " 'tyre agedot code positive',\n",
       " 'tyre quality negative',\n",
       " 'tyre quality positive',\n",
       " 'value for money negative',\n",
       " 'value for money positive',\n",
       " 'wait time negative',\n",
       " 'wait time positive']"
      ]
     },
     "execution_count": 10,
     "metadata": {},
     "output_type": "execute_result"
    }
   ],
   "source": [
    "labels"
   ]
  },
  {
   "cell_type": "code",
   "execution_count": 11,
   "id": "70e1f1b3-0d51-486f-b5f1-4403111ac248",
   "metadata": {},
   "outputs": [],
   "source": [
    "label_fix_dct = {\n",
    "    'advisoragent service negative': 'advisor/agent service negative',\n",
    "    'advisoragent service positive': 'advisor/agent service positive',\n",
    "    'tyre agedot code negative': 'tyre age/dot code negative',\n",
    "}\n",
    "\n",
    "for k, v in label_fix_dct.items():\n",
    "    assert k in labels\n",
    "    assert v in labels"
   ]
  },
  {
   "cell_type": "code",
   "execution_count": 12,
   "id": "b56c4f7c-6d43-4931-9839-adfa53c7df21",
   "metadata": {},
   "outputs": [
    {
     "data": {
      "application/vnd.jupyter.widget-view+json": {
       "model_id": "b73469de438a434aa935b1a575020c98",
       "version_major": 2,
       "version_minor": 0
      },
      "text/plain": [
       "  0%|          | 0/151980 [00:00<?, ?it/s]"
      ]
     },
     "metadata": {},
     "output_type": "display_data"
    }
   ],
   "source": [
    "df = df.progress_applymap(lambda x: label_fix_dct.get(x, x))"
   ]
  },
  {
   "cell_type": "code",
   "execution_count": 13,
   "id": "d96353b6-511a-4eae-adbb-101755a6d1b5",
   "metadata": {},
   "outputs": [
    {
     "data": {
      "text/html": [
       "<div>\n",
       "<style scoped>\n",
       "    .dataframe tbody tr th:only-of-type {\n",
       "        vertical-align: middle;\n",
       "    }\n",
       "\n",
       "    .dataframe tbody tr th {\n",
       "        vertical-align: top;\n",
       "    }\n",
       "\n",
       "    .dataframe thead th {\n",
       "        text-align: right;\n",
       "    }\n",
       "</style>\n",
       "<table border=\"1\" class=\"dataframe\">\n",
       "  <thead>\n",
       "    <tr style=\"text-align: right;\">\n",
       "      <th></th>\n",
       "      <th>1</th>\n",
       "      <th>2</th>\n",
       "      <th>3</th>\n",
       "      <th>4</th>\n",
       "      <th>5</th>\n",
       "      <th>6</th>\n",
       "      <th>7</th>\n",
       "      <th>8</th>\n",
       "      <th>9</th>\n",
       "      <th>10</th>\n",
       "      <th>11</th>\n",
       "      <th>12</th>\n",
       "      <th>13</th>\n",
       "      <th>14</th>\n",
       "    </tr>\n",
       "  </thead>\n",
       "  <tbody>\n",
       "    <tr>\n",
       "      <th>7757</th>\n",
       "      <td>length of fitting positive</td>\n",
       "      <td>ease of booking positive</td>\n",
       "      <td>advisor/agent service positive</td>\n",
       "      <td>value for money positive</td>\n",
       "      <td>NaN</td>\n",
       "      <td>NaN</td>\n",
       "      <td>NaN</td>\n",
       "      <td>NaN</td>\n",
       "      <td>NaN</td>\n",
       "      <td>NaN</td>\n",
       "      <td>NaN</td>\n",
       "      <td>NaN</td>\n",
       "      <td>NaN</td>\n",
       "      <td>NaN</td>\n",
       "    </tr>\n",
       "    <tr>\n",
       "      <th>4921</th>\n",
       "      <td>value for money positive</td>\n",
       "      <td>location positive</td>\n",
       "      <td>NaN</td>\n",
       "      <td>NaN</td>\n",
       "      <td>NaN</td>\n",
       "      <td>NaN</td>\n",
       "      <td>NaN</td>\n",
       "      <td>NaN</td>\n",
       "      <td>NaN</td>\n",
       "      <td>NaN</td>\n",
       "      <td>NaN</td>\n",
       "      <td>NaN</td>\n",
       "      <td>NaN</td>\n",
       "      <td>NaN</td>\n",
       "    </tr>\n",
       "  </tbody>\n",
       "</table>\n",
       "</div>"
      ],
      "text/plain": [
       "                               1                         2  \\\n",
       "7757  length of fitting positive  ease of booking positive   \n",
       "4921    value for money positive         location positive   \n",
       "\n",
       "                                   3                         4    5    6    7  \\\n",
       "7757  advisor/agent service positive  value for money positive  NaN  NaN  NaN   \n",
       "4921                             NaN                       NaN  NaN  NaN  NaN   \n",
       "\n",
       "        8    9   10   11   12   13   14  \n",
       "7757  NaN  NaN  NaN  NaN  NaN  NaN  NaN  \n",
       "4921  NaN  NaN  NaN  NaN  NaN  NaN  NaN  "
      ]
     },
     "execution_count": 13,
     "metadata": {},
     "output_type": "execute_result"
    }
   ],
   "source": [
    "aspects_df = df.drop('review', axis=1)\n",
    "aspects_df.sample(2)"
   ]
  },
  {
   "cell_type": "code",
   "execution_count": 14,
   "id": "54c54fc5-80b0-403f-b85d-333e91aca668",
   "metadata": {},
   "outputs": [],
   "source": [
    "labels_series = pd.Series(aspects_df.values.ravel())\n",
    "labels = sorted(pd.unique(labels_series.dropna()))"
   ]
  },
  {
   "cell_type": "code",
   "execution_count": 15,
   "id": "d2a5561a-c289-426b-b1a4-7ad49d982bef",
   "metadata": {},
   "outputs": [
    {
     "data": {
      "text/plain": [
       "['advisor/agent service negative',\n",
       " 'advisor/agent service positive',\n",
       " 'balancing negative',\n",
       " 'balancing positive',\n",
       " 'booking confusion negative',\n",
       " 'booking confusion positive',\n",
       " 'call wait time negative',\n",
       " 'call wait time positive',\n",
       " 'change of date negative',\n",
       " 'change of date positive',\n",
       " 'change of time negative',\n",
       " 'change of time positive',\n",
       " 'damage negative',\n",
       " 'delivery punctuality negative',\n",
       " 'delivery punctuality positive',\n",
       " 'discount not applied negative',\n",
       " 'discount not applied positive',\n",
       " 'discounts negative',\n",
       " 'discounts positive',\n",
       " 'ease of booking negative',\n",
       " 'ease of booking positive',\n",
       " 'extra charges negative',\n",
       " 'extra charges positive',\n",
       " 'facilities negative',\n",
       " 'facilities positive',\n",
       " 'failed payment negative',\n",
       " 'failed payment positive',\n",
       " 'garage service negative',\n",
       " 'garage service positive',\n",
       " 'incorrect tyres sent negative',\n",
       " 'incorrect tyres sent positive',\n",
       " 'late notice negative',\n",
       " 'late notice positive',\n",
       " 'length of fitting negative',\n",
       " 'length of fitting positive',\n",
       " 'location negative',\n",
       " 'location positive',\n",
       " \"mobile fitter didn't arrive negative\",\n",
       " \"mobile fitter didn't arrive positive\",\n",
       " 'mobile fitter negative',\n",
       " 'mobile fitter positive',\n",
       " 'no stock negative',\n",
       " 'no stock positive',\n",
       " 'refund negative',\n",
       " 'refund not actioned negative',\n",
       " 'refund not actioned positive',\n",
       " 'refund positive',\n",
       " 'refund timescale negative',\n",
       " 'refund timescale positive',\n",
       " 'response time negative',\n",
       " 'response time positive',\n",
       " 'tyre age/dot code negative',\n",
       " 'tyre agedot code positive',\n",
       " 'tyre quality negative',\n",
       " 'tyre quality positive',\n",
       " 'value for money negative',\n",
       " 'value for money positive',\n",
       " 'wait time negative',\n",
       " 'wait time positive']"
      ]
     },
     "execution_count": 15,
     "metadata": {},
     "output_type": "execute_result"
    }
   ],
   "source": [
    "labels"
   ]
  },
  {
   "cell_type": "code",
   "execution_count": 16,
   "id": "7692fdb1-96a5-42de-8bd9-c9ee38fb933e",
   "metadata": {},
   "outputs": [
    {
     "data": {
      "text/plain": [
       "59"
      ]
     },
     "execution_count": 16,
     "metadata": {},
     "output_type": "execute_result"
    }
   ],
   "source": [
    "len(labels)"
   ]
  },
  {
   "cell_type": "code",
   "execution_count": 17,
   "id": "38935967-baa4-4f02-9750-6a41b060c7fe",
   "metadata": {},
   "outputs": [],
   "source": [
    "def collate_reviews(rows):\n",
    "    rows = rows.dropna()\n",
    "    rows = rows.to_list()\n",
    "    return rows"
   ]
  },
  {
   "cell_type": "code",
   "execution_count": 18,
   "id": "595d08e4-6de5-4bc3-982c-275988024382",
   "metadata": {},
   "outputs": [
    {
     "data": {
      "application/vnd.jupyter.widget-view+json": {
       "model_id": "09c46b6fe5db4564acc97249895a594d",
       "version_major": 2,
       "version_minor": 0
      },
      "text/plain": [
       "  0%|          | 0/10132 [00:00<?, ?it/s]"
      ]
     },
     "metadata": {},
     "output_type": "display_data"
    },
    {
     "data": {
      "text/plain": [
       "9582                            []\n",
       "10108    [garage service positive]\n",
       "dtype: object"
      ]
     },
     "execution_count": 18,
     "metadata": {},
     "output_type": "execute_result"
    }
   ],
   "source": [
    "aspects = aspects_df.progress_apply(collate_reviews, axis=1)\n",
    "aspects.sample(2)"
   ]
  },
  {
   "cell_type": "code",
   "execution_count": 19,
   "id": "5f440a16-e903-4ab8-953d-be0aa11754d9",
   "metadata": {},
   "outputs": [],
   "source": [
    "from sklearn.preprocessing import MultiLabelBinarizer"
   ]
  },
  {
   "cell_type": "code",
   "execution_count": 20,
   "id": "5de3fe16-f294-4ddd-b413-497218128301",
   "metadata": {},
   "outputs": [],
   "source": [
    "mlb = MultiLabelBinarizer()"
   ]
  },
  {
   "cell_type": "code",
   "execution_count": 21,
   "id": "74e989c6-6cb4-4514-b6ab-973d0d1efb21",
   "metadata": {},
   "outputs": [
    {
     "data": {
      "text/plain": [
       "MultiLabelBinarizer()"
      ]
     },
     "execution_count": 21,
     "metadata": {},
     "output_type": "execute_result"
    }
   ],
   "source": [
    "mlb.fit(aspects)"
   ]
  },
  {
   "cell_type": "code",
   "execution_count": 22,
   "id": "fd6a83d7-300b-429a-ab44-18a2bec8a54a",
   "metadata": {},
   "outputs": [
    {
     "data": {
      "text/plain": [
       "array(['advisor/agent service negative', 'advisor/agent service positive',\n",
       "       'balancing negative', 'balancing positive',\n",
       "       'booking confusion negative', 'booking confusion positive',\n",
       "       'call wait time negative', 'call wait time positive',\n",
       "       'change of date negative', 'change of date positive',\n",
       "       'change of time negative', 'change of time positive',\n",
       "       'damage negative', 'delivery punctuality negative',\n",
       "       'delivery punctuality positive', 'discount not applied negative',\n",
       "       'discount not applied positive', 'discounts negative',\n",
       "       'discounts positive', 'ease of booking negative',\n",
       "       'ease of booking positive', 'extra charges negative',\n",
       "       'extra charges positive', 'facilities negative',\n",
       "       'facilities positive', 'failed payment negative',\n",
       "       'failed payment positive', 'garage service negative',\n",
       "       'garage service positive', 'incorrect tyres sent negative',\n",
       "       'incorrect tyres sent positive', 'late notice negative',\n",
       "       'late notice positive', 'length of fitting negative',\n",
       "       'length of fitting positive', 'location negative',\n",
       "       'location positive', \"mobile fitter didn't arrive negative\",\n",
       "       \"mobile fitter didn't arrive positive\", 'mobile fitter negative',\n",
       "       'mobile fitter positive', 'no stock negative', 'no stock positive',\n",
       "       'refund negative', 'refund not actioned negative',\n",
       "       'refund not actioned positive', 'refund positive',\n",
       "       'refund timescale negative', 'refund timescale positive',\n",
       "       'response time negative', 'response time positive',\n",
       "       'tyre age/dot code negative', 'tyre agedot code positive',\n",
       "       'tyre quality negative', 'tyre quality positive',\n",
       "       'value for money negative', 'value for money positive',\n",
       "       'wait time negative', 'wait time positive'], dtype=object)"
      ]
     },
     "execution_count": 22,
     "metadata": {},
     "output_type": "execute_result"
    }
   ],
   "source": [
    "mlb.classes_"
   ]
  },
  {
   "cell_type": "code",
   "execution_count": 23,
   "id": "b9638e3b-95dc-4880-a9c3-671ec3665a12",
   "metadata": {},
   "outputs": [
    {
     "data": {
      "text/plain": [
       "59"
      ]
     },
     "execution_count": 23,
     "metadata": {},
     "output_type": "execute_result"
    }
   ],
   "source": [
    "num_labels = len(mlb.classes_)\n",
    "num_labels"
   ]
  },
  {
   "cell_type": "code",
   "execution_count": 167,
   "id": "200217db-a1a4-4b84-a6f6-6afa5dec9617",
   "metadata": {},
   "outputs": [],
   "source": [
    "trans_aspects = mlb.transform(aspects)"
   ]
  },
  {
   "cell_type": "code",
   "execution_count": 168,
   "id": "7a7aa399-c24d-4954-8b53-64db487f6241",
   "metadata": {},
   "outputs": [
    {
     "data": {
      "text/plain": [
       "0        (ease of booking positive, garage service posi...\n",
       "1        (garage service positive, value for money posi...\n",
       "2                              (value for money positive,)\n",
       "3                              (ease of booking positive,)\n",
       "4        (ease of booking positive, location positive, ...\n",
       "                               ...                        \n",
       "10127    (delivery punctuality positive, refund positiv...\n",
       "10128                        (length of fitting positive,)\n",
       "10129    (delivery punctuality positive, length of fitt...\n",
       "10130                                                   ()\n",
       "10131                                                   ()\n",
       "Length: 10132, dtype: object"
      ]
     },
     "execution_count": 168,
     "metadata": {},
     "output_type": "execute_result"
    }
   ],
   "source": [
    "pd.Series(mlb.inverse_transform(trans_aspects))"
   ]
  },
  {
   "cell_type": "code",
   "execution_count": 169,
   "id": "f209feb0-978d-4e00-8340-ecd08a43c723",
   "metadata": {},
   "outputs": [
    {
     "data": {
      "text/plain": [
       "0        [garage service positive, ease of booking posi...\n",
       "1        [garage service positive, value for money posi...\n",
       "2                               [value for money positive]\n",
       "3                               [ease of booking positive]\n",
       "4        [location positive, value for money positive, ...\n",
       "                               ...                        \n",
       "10127    [refund positive, delivery punctuality positiv...\n",
       "10128                         [length of fitting positive]\n",
       "10129    [location positive, delivery punctuality posit...\n",
       "10130                                                   []\n",
       "10131                                                   []\n",
       "Length: 10132, dtype: object"
      ]
     },
     "execution_count": 169,
     "metadata": {},
     "output_type": "execute_result"
    }
   ],
   "source": [
    "aspects"
   ]
  },
  {
   "cell_type": "code",
   "execution_count": 170,
   "id": "dd35ee38-96a7-42c7-9b60-f6ce7e455937",
   "metadata": {},
   "outputs": [
    {
     "data": {
      "text/plain": [
       "True"
      ]
     },
     "execution_count": 170,
     "metadata": {},
     "output_type": "execute_result"
    }
   ],
   "source": [
    "(aspects.apply(set) == pd.Series(mlb.inverse_transform(trans_aspects)).apply(set)).all()"
   ]
  },
  {
   "cell_type": "code",
   "execution_count": 171,
   "id": "92bfa13a-1d7f-42d2-b9eb-fc7354954a3b",
   "metadata": {},
   "outputs": [
    {
     "data": {
      "text/plain": [
       "(10132, 59)"
      ]
     },
     "execution_count": 171,
     "metadata": {},
     "output_type": "execute_result"
    }
   ],
   "source": [
    "trans_aspects.shape"
   ]
  },
  {
   "cell_type": "code",
   "execution_count": 172,
   "id": "4b951281-3231-4337-89d8-a746a411364a",
   "metadata": {},
   "outputs": [],
   "source": [
    "trans_aspects = torch.tensor(trans_aspects, dtype=torch.float32)"
   ]
  },
  {
   "cell_type": "code",
   "execution_count": 173,
   "id": "b05d9c0f-8bea-42aa-a9c2-11e26d2c5f22",
   "metadata": {},
   "outputs": [
    {
     "data": {
      "text/plain": [
       "torch.Size([10132, 59])"
      ]
     },
     "execution_count": 173,
     "metadata": {},
     "output_type": "execute_result"
    }
   ],
   "source": [
    "trans_aspects.shape"
   ]
  },
  {
   "cell_type": "code",
   "execution_count": 174,
   "id": "56b29571-ddfa-450c-9575-4d65267d5711",
   "metadata": {},
   "outputs": [],
   "source": [
    "df['y'] = list(trans_aspects)"
   ]
  },
  {
   "cell_type": "code",
   "execution_count": 178,
   "id": "64d56eb7-ec05-4f1a-94dd-98bf0f84514a",
   "metadata": {},
   "outputs": [
    {
     "data": {
      "text/plain": [
       "0        (59,)\n",
       "1        (59,)\n",
       "2        (59,)\n",
       "3        (59,)\n",
       "4        (59,)\n",
       "         ...  \n",
       "10127    (59,)\n",
       "10128    (59,)\n",
       "10129    (59,)\n",
       "10130    (59,)\n",
       "10131    (59,)\n",
       "Name: y, Length: 10132, dtype: object"
      ]
     },
     "execution_count": 178,
     "metadata": {},
     "output_type": "execute_result"
    }
   ],
   "source": [
    "df['y'].apply(lambda x: x.shape)"
   ]
  },
  {
   "cell_type": "code",
   "execution_count": 179,
   "id": "a42bf2c4-5825-4e81-b390-7621d5a21257",
   "metadata": {},
   "outputs": [],
   "source": [
    "from transformers import DistilBertForSequenceClassification, DistilBertTokenizer, TrainingArguments, Trainer"
   ]
  },
  {
   "cell_type": "code",
   "execution_count": null,
   "id": "272d7464-68f5-44cd-b383-f238ba5a6987",
   "metadata": {},
   "outputs": [],
   "source": [
    "db_tokenizer = DistilBertTokenizer.from_pretrained('distilbert-base-uncased')\n",
    "db_model = DistilBertForSequenceClassification.from_pretrained('distilbert-base-uncased', \n",
    "                                                               num_labels=num_labels,\n",
    "                                                              problem_type='multi_label_classification')"
   ]
  },
  {
   "cell_type": "code",
   "execution_count": 183,
   "id": "677aafbc-08dc-44b7-a89e-1e599392f321",
   "metadata": {},
   "outputs": [
    {
     "data": {
      "text/plain": [
       "0        Tires where delivered to the garage of my choi...\n",
       "1        Easy Tyre Selection Process, Competitive Prici...\n",
       "2               Very easy to use and good value for money.\n",
       "3                    Really easy and convenient to arrange\n",
       "4        It was so easy to select tyre sizes and arrang...\n",
       "                               ...                        \n",
       "10127    I ordered the wrong tyres, however [REDACTED] ...\n",
       "10128    Good experience, first time I have used [REDAC...\n",
       "10129    I ordered the tyre I needed on line, booked a ...\n",
       "10130    Excellent service from point of order to fitti...\n",
       "10131    Seamless, well managed at both ends. I would r...\n",
       "Name: review, Length: 10132, dtype: object"
      ]
     },
     "execution_count": 183,
     "metadata": {},
     "output_type": "execute_result"
    }
   ],
   "source": [
    "df['review']"
   ]
  },
  {
   "cell_type": "code",
   "execution_count": 184,
   "id": "efbc7918-ee4b-4176-9d83-19262e4663bb",
   "metadata": {},
   "outputs": [
    {
     "data": {
      "application/vnd.jupyter.widget-view+json": {
       "model_id": "69097e01c44f4148873bd7e4cd2d2653",
       "version_major": 2,
       "version_minor": 0
      },
      "text/plain": [
       "  0%|          | 0/10132 [00:00<?, ?it/s]"
      ]
     },
     "metadata": {},
     "output_type": "display_data"
    },
    {
     "name": "stdout",
     "output_type": "stream",
     "text": [
      "CPU times: user 4.28 s, sys: 25.6 ms, total: 4.31 s\n",
      "Wall time: 4.27 s\n"
     ]
    }
   ],
   "source": [
    "%%time\n",
    "df['x'] = df['review'].progress_apply(lambda x: db_tokenizer(x, padding='max_length', truncation=True))\n",
    "# df['x'] = db_tokenizer(df['review'].to_list(), truncation=True, padding=True)"
   ]
  },
  {
   "cell_type": "code",
   "execution_count": 185,
   "id": "20979ea7-37e4-4252-881d-1b586e99e961",
   "metadata": {},
   "outputs": [
    {
     "data": {
      "application/vnd.jupyter.widget-view+json": {
       "model_id": "7d78ee139edd44f6aed191fc4f46cb6b",
       "version_major": 2,
       "version_minor": 0
      },
      "text/plain": [
       "  0%|          | 0/10132 [00:00<?, ?it/s]"
      ]
     },
     "metadata": {},
     "output_type": "display_data"
    }
   ],
   "source": [
    "df['x'] = df['x'].progress_apply(lambda x: {k: torch.tensor(v, dtype=torch.int64) for k, v in x.items()})"
   ]
  },
  {
   "cell_type": "code",
   "execution_count": 186,
   "id": "1fbcec37-49e2-4388-aa19-f5bc6d228ccd",
   "metadata": {},
   "outputs": [
    {
     "data": {
      "text/plain": [
       "count    10132.0\n",
       "mean       512.0\n",
       "std          0.0\n",
       "min        512.0\n",
       "25%        512.0\n",
       "50%        512.0\n",
       "75%        512.0\n",
       "max        512.0\n",
       "Name: x, dtype: float64"
      ]
     },
     "execution_count": 186,
     "metadata": {},
     "output_type": "execute_result"
    }
   ],
   "source": [
    "df['x'].apply(lambda x: x['input_ids'].shape[0]).describe()"
   ]
  },
  {
   "cell_type": "code",
   "execution_count": 187,
   "id": "ff773b96-39b3-41e2-9ae2-7d79b2989735",
   "metadata": {},
   "outputs": [
    {
     "data": {
      "text/html": [
       "<div>\n",
       "<style scoped>\n",
       "    .dataframe tbody tr th:only-of-type {\n",
       "        vertical-align: middle;\n",
       "    }\n",
       "\n",
       "    .dataframe tbody tr th {\n",
       "        vertical-align: top;\n",
       "    }\n",
       "\n",
       "    .dataframe thead th {\n",
       "        text-align: right;\n",
       "    }\n",
       "</style>\n",
       "<table border=\"1\" class=\"dataframe\">\n",
       "  <thead>\n",
       "    <tr style=\"text-align: right;\">\n",
       "      <th></th>\n",
       "      <th>x</th>\n",
       "      <th>y</th>\n",
       "    </tr>\n",
       "  </thead>\n",
       "  <tbody>\n",
       "    <tr>\n",
       "      <th>7658</th>\n",
       "      <td>{'input_ids': [tensor(101), tensor(2467), tens...</td>\n",
       "      <td>[tensor(0.), tensor(0.), tensor(0.), tensor(0....</td>\n",
       "    </tr>\n",
       "    <tr>\n",
       "      <th>4353</th>\n",
       "      <td>{'input_ids': [tensor(101), tensor(3722), tens...</td>\n",
       "      <td>[tensor(0.), tensor(0.), tensor(0.), tensor(0....</td>\n",
       "    </tr>\n",
       "  </tbody>\n",
       "</table>\n",
       "</div>"
      ],
      "text/plain": [
       "                                                      x  \\\n",
       "7658  {'input_ids': [tensor(101), tensor(2467), tens...   \n",
       "4353  {'input_ids': [tensor(101), tensor(3722), tens...   \n",
       "\n",
       "                                                      y  \n",
       "7658  [tensor(0.), tensor(0.), tensor(0.), tensor(0....  \n",
       "4353  [tensor(0.), tensor(0.), tensor(0.), tensor(0....  "
      ]
     },
     "execution_count": 187,
     "metadata": {},
     "output_type": "execute_result"
    }
   ],
   "source": [
    "df[['x', 'y']].sample(2)"
   ]
  },
  {
   "cell_type": "code",
   "execution_count": 188,
   "id": "2359a5f9-5b2f-4500-a98b-cc8e1b639521",
   "metadata": {},
   "outputs": [],
   "source": [
    "class SentisumDataset(Dataset):\n",
    "    def __init__(self, df):\n",
    "        self.df = df\n",
    "    \n",
    "    def __len__(self):\n",
    "        return len(self.df)\n",
    "    \n",
    "    def __getitem__(self, idx):\n",
    "        x, y = self.df.iloc[idx][['x', 'y']]\n",
    "#         ans = {k: torch.tensor(v, dtype=torch.int64) for k, v in x.items()}\n",
    "        x['labels'] = y\n",
    "        return x"
   ]
  },
  {
   "cell_type": "code",
   "execution_count": 189,
   "id": "2fd31b69-1763-4dc7-85d4-4d5383eb7765",
   "metadata": {},
   "outputs": [
    {
     "data": {
      "text/plain": [
       "0        <class 'torch.Tensor'>\n",
       "1        <class 'torch.Tensor'>\n",
       "2        <class 'torch.Tensor'>\n",
       "3        <class 'torch.Tensor'>\n",
       "4        <class 'torch.Tensor'>\n",
       "                  ...          \n",
       "10127    <class 'torch.Tensor'>\n",
       "10128    <class 'torch.Tensor'>\n",
       "10129    <class 'torch.Tensor'>\n",
       "10130    <class 'torch.Tensor'>\n",
       "10131    <class 'torch.Tensor'>\n",
       "Name: y, Length: 10132, dtype: object"
      ]
     },
     "execution_count": 189,
     "metadata": {},
     "output_type": "execute_result"
    }
   ],
   "source": [
    "df['y'].apply(type)"
   ]
  },
  {
   "cell_type": "code",
   "execution_count": 190,
   "id": "bdc148d9-1966-4cf7-a293-bbe4ae461915",
   "metadata": {},
   "outputs": [
    {
     "data": {
      "text/plain": [
       "[('ease of booking positive', 'garage service positive')]"
      ]
     },
     "execution_count": 190,
     "metadata": {},
     "output_type": "execute_result"
    }
   ],
   "source": [
    "mlb.inverse_transform(df['y'].iloc[0].reshape(1, -1))"
   ]
  },
  {
   "cell_type": "code",
   "execution_count": 199,
   "id": "120751b4-c32d-4f9e-8f94-c35c7102c3f9",
   "metadata": {},
   "outputs": [],
   "source": [
    "def my_data_collator(samples):\n",
    "    keys = samples[0].keys()\n",
    "    batch = {}\n",
    "\n",
    "    for key in keys:\n",
    "        batch[key] = torch.stack([s[key] for s in samples])\n",
    "    return batch"
   ]
  },
  {
   "cell_type": "code",
   "execution_count": 200,
   "id": "0d7a40ba-fe71-4eb3-8d43-8c0d44e51b1e",
   "metadata": {},
   "outputs": [],
   "source": [
    "from sklearn.model_selection import train_test_split"
   ]
  },
  {
   "cell_type": "code",
   "execution_count": 201,
   "id": "0312c44b-af85-4876-b3b3-8843b6594ea1",
   "metadata": {},
   "outputs": [
    {
     "data": {
      "text/plain": [
       "(7599, 2533)"
      ]
     },
     "execution_count": 201,
     "metadata": {},
     "output_type": "execute_result"
    }
   ],
   "source": [
    "idxs = df.index.to_numpy()\n",
    "train_idxs, val_idxs = train_test_split(idxs)\n",
    "len(train_idxs), len(val_idxs)"
   ]
  },
  {
   "cell_type": "code",
   "execution_count": 202,
   "id": "81990099-578c-420f-8048-cb8b9a49b3f3",
   "metadata": {},
   "outputs": [],
   "source": [
    "train_ds = SentisumDataset(df.loc[train_idxs])\n",
    "val_ds = SentisumDataset(df.loc[val_idxs])"
   ]
  },
  {
   "cell_type": "code",
   "execution_count": 203,
   "id": "4912d9d4-2dec-4aa9-9322-b3e98ad9902e",
   "metadata": {},
   "outputs": [
    {
     "name": "stderr",
     "output_type": "stream",
     "text": [
      "PyTorch: setting up devices\n",
      "The default value for the training argument `--report_to` will change in v5 (from all installed integrations to none). In v5, you will need to use `--report_to all` to get the same behavior as now. You should start updating your code and make this info disappear :-).\n"
     ]
    }
   ],
   "source": [
    "train_args = TrainingArguments(output_dir='models/distilbert-base',\n",
    "                                label_names=mlb.classes_,\n",
    ")"
   ]
  },
  {
   "cell_type": "code",
   "execution_count": 204,
   "id": "7cd2a8b4-8c51-41b2-b792-13f3c5b7aa4c",
   "metadata": {},
   "outputs": [],
   "source": [
    "trainer = Trainer(model=db_model, \n",
    "                  args=train_args,\n",
    "                  data_collator=my_data_collator,\n",
    "                  train_dataset=train_ds, \n",
    "                  eval_dataset=val_ds)"
   ]
  },
  {
   "cell_type": "code",
   "execution_count": 207,
   "id": "84c39d0b-b8a9-4c60-a886-ce80587808d5",
   "metadata": {},
   "outputs": [
    {
     "data": {
      "text/plain": [
       "False"
      ]
     },
     "execution_count": 207,
     "metadata": {},
     "output_type": "execute_result"
    }
   ],
   "source": [
    "torch.cuda.is_available()"
   ]
  },
  {
   "cell_type": "code",
   "execution_count": 208,
   "id": "8be8cec5-9191-404d-8349-50c21406c204",
   "metadata": {},
   "outputs": [
    {
     "data": {
      "text/plain": [
       "'1.8.1'"
      ]
     },
     "execution_count": 208,
     "metadata": {},
     "output_type": "execute_result"
    }
   ],
   "source": [
    "torch.__version__"
   ]
  },
  {
   "cell_type": "code",
   "execution_count": 206,
   "id": "00e02657-0a53-4903-b65c-4ea02128591d",
   "metadata": {},
   "outputs": [
    {
     "name": "stderr",
     "output_type": "stream",
     "text": [
      "***** Running training *****\n",
      "  Num examples = 7599\n",
      "  Num Epochs = 3\n",
      "  Instantaneous batch size per device = 8\n",
      "  Total train batch size (w. parallel, distributed & accumulation) = 8\n",
      "  Gradient Accumulation steps = 1\n",
      "  Total optimization steps = 2850\n"
     ]
    },
    {
     "data": {
      "text/html": [
       "\n",
       "    <div>\n",
       "      \n",
       "      <progress value='37' max='2850' style='width:300px; height:20px; vertical-align: middle;'></progress>\n",
       "      [  37/2850 03:16 < 4:22:52, 0.18 it/s, Epoch 0.04/3]\n",
       "    </div>\n",
       "    <table border=\"1\" class=\"dataframe\">\n",
       "  <thead>\n",
       "    <tr style=\"text-align: left;\">\n",
       "      <th>Step</th>\n",
       "      <th>Training Loss</th>\n",
       "    </tr>\n",
       "  </thead>\n",
       "  <tbody>\n",
       "  </tbody>\n",
       "</table><p>"
      ],
      "text/plain": [
       "<IPython.core.display.HTML object>"
      ]
     },
     "metadata": {},
     "output_type": "display_data"
    },
    {
     "ename": "KeyboardInterrupt",
     "evalue": "",
     "output_type": "error",
     "traceback": [
      "\u001b[0;31m---------------------------------------------------------------------------\u001b[0m",
      "\u001b[0;31mKeyboardInterrupt\u001b[0m                         Traceback (most recent call last)",
      "\u001b[0;32m/tmp/ipykernel_432/4032920361.py\u001b[0m in \u001b[0;36m<module>\u001b[0;34m\u001b[0m\n\u001b[0;32m----> 1\u001b[0;31m \u001b[0mtrainer\u001b[0m\u001b[0;34m.\u001b[0m\u001b[0mtrain\u001b[0m\u001b[0;34m(\u001b[0m\u001b[0;34m)\u001b[0m\u001b[0;34m\u001b[0m\u001b[0;34m\u001b[0m\u001b[0m\n\u001b[0m",
      "\u001b[0;32m~/anaconda3/envs/neuriot/lib/python3.9/site-packages/transformers/trainer.py\u001b[0m in \u001b[0;36mtrain\u001b[0;34m(self, resume_from_checkpoint, trial, ignore_keys_for_eval, **kwargs)\u001b[0m\n\u001b[1;32m   1282\u001b[0m                         \u001b[0mtr_loss\u001b[0m \u001b[0;34m+=\u001b[0m \u001b[0mself\u001b[0m\u001b[0;34m.\u001b[0m\u001b[0mtraining_step\u001b[0m\u001b[0;34m(\u001b[0m\u001b[0mmodel\u001b[0m\u001b[0;34m,\u001b[0m \u001b[0minputs\u001b[0m\u001b[0;34m)\u001b[0m\u001b[0;34m\u001b[0m\u001b[0;34m\u001b[0m\u001b[0m\n\u001b[1;32m   1283\u001b[0m                 \u001b[0;32melse\u001b[0m\u001b[0;34m:\u001b[0m\u001b[0;34m\u001b[0m\u001b[0;34m\u001b[0m\u001b[0m\n\u001b[0;32m-> 1284\u001b[0;31m                     \u001b[0mtr_loss\u001b[0m \u001b[0;34m+=\u001b[0m \u001b[0mself\u001b[0m\u001b[0;34m.\u001b[0m\u001b[0mtraining_step\u001b[0m\u001b[0;34m(\u001b[0m\u001b[0mmodel\u001b[0m\u001b[0;34m,\u001b[0m \u001b[0minputs\u001b[0m\u001b[0;34m)\u001b[0m\u001b[0;34m\u001b[0m\u001b[0;34m\u001b[0m\u001b[0m\n\u001b[0m\u001b[1;32m   1285\u001b[0m                 \u001b[0mself\u001b[0m\u001b[0;34m.\u001b[0m\u001b[0mcurrent_flos\u001b[0m \u001b[0;34m+=\u001b[0m \u001b[0mfloat\u001b[0m\u001b[0;34m(\u001b[0m\u001b[0mself\u001b[0m\u001b[0;34m.\u001b[0m\u001b[0mfloating_point_ops\u001b[0m\u001b[0;34m(\u001b[0m\u001b[0minputs\u001b[0m\u001b[0;34m)\u001b[0m\u001b[0;34m)\u001b[0m\u001b[0;34m\u001b[0m\u001b[0;34m\u001b[0m\u001b[0m\n\u001b[1;32m   1286\u001b[0m \u001b[0;34m\u001b[0m\u001b[0m\n",
      "\u001b[0;32m~/anaconda3/envs/neuriot/lib/python3.9/site-packages/transformers/trainer.py\u001b[0m in \u001b[0;36mtraining_step\u001b[0;34m(self, model, inputs)\u001b[0m\n\u001b[1;32m   1805\u001b[0m             \u001b[0mloss\u001b[0m \u001b[0;34m=\u001b[0m \u001b[0mself\u001b[0m\u001b[0;34m.\u001b[0m\u001b[0mdeepspeed\u001b[0m\u001b[0;34m.\u001b[0m\u001b[0mbackward\u001b[0m\u001b[0;34m(\u001b[0m\u001b[0mloss\u001b[0m\u001b[0;34m)\u001b[0m\u001b[0;34m\u001b[0m\u001b[0;34m\u001b[0m\u001b[0m\n\u001b[1;32m   1806\u001b[0m         \u001b[0;32melse\u001b[0m\u001b[0;34m:\u001b[0m\u001b[0;34m\u001b[0m\u001b[0;34m\u001b[0m\u001b[0m\n\u001b[0;32m-> 1807\u001b[0;31m             \u001b[0mloss\u001b[0m\u001b[0;34m.\u001b[0m\u001b[0mbackward\u001b[0m\u001b[0;34m(\u001b[0m\u001b[0;34m)\u001b[0m\u001b[0;34m\u001b[0m\u001b[0;34m\u001b[0m\u001b[0m\n\u001b[0m\u001b[1;32m   1808\u001b[0m \u001b[0;34m\u001b[0m\u001b[0m\n\u001b[1;32m   1809\u001b[0m         \u001b[0;32mreturn\u001b[0m \u001b[0mloss\u001b[0m\u001b[0;34m.\u001b[0m\u001b[0mdetach\u001b[0m\u001b[0;34m(\u001b[0m\u001b[0;34m)\u001b[0m\u001b[0;34m\u001b[0m\u001b[0;34m\u001b[0m\u001b[0m\n",
      "\u001b[0;32m~/anaconda3/envs/neuriot/lib/python3.9/site-packages/torch/tensor.py\u001b[0m in \u001b[0;36mbackward\u001b[0;34m(self, gradient, retain_graph, create_graph, inputs)\u001b[0m\n\u001b[1;32m    243\u001b[0m                 \u001b[0mcreate_graph\u001b[0m\u001b[0;34m=\u001b[0m\u001b[0mcreate_graph\u001b[0m\u001b[0;34m,\u001b[0m\u001b[0;34m\u001b[0m\u001b[0;34m\u001b[0m\u001b[0m\n\u001b[1;32m    244\u001b[0m                 inputs=inputs)\n\u001b[0;32m--> 245\u001b[0;31m         \u001b[0mtorch\u001b[0m\u001b[0;34m.\u001b[0m\u001b[0mautograd\u001b[0m\u001b[0;34m.\u001b[0m\u001b[0mbackward\u001b[0m\u001b[0;34m(\u001b[0m\u001b[0mself\u001b[0m\u001b[0;34m,\u001b[0m \u001b[0mgradient\u001b[0m\u001b[0;34m,\u001b[0m \u001b[0mretain_graph\u001b[0m\u001b[0;34m,\u001b[0m \u001b[0mcreate_graph\u001b[0m\u001b[0;34m,\u001b[0m \u001b[0minputs\u001b[0m\u001b[0;34m=\u001b[0m\u001b[0minputs\u001b[0m\u001b[0;34m)\u001b[0m\u001b[0;34m\u001b[0m\u001b[0;34m\u001b[0m\u001b[0m\n\u001b[0m\u001b[1;32m    246\u001b[0m \u001b[0;34m\u001b[0m\u001b[0m\n\u001b[1;32m    247\u001b[0m     \u001b[0;32mdef\u001b[0m \u001b[0mregister_hook\u001b[0m\u001b[0;34m(\u001b[0m\u001b[0mself\u001b[0m\u001b[0;34m,\u001b[0m \u001b[0mhook\u001b[0m\u001b[0;34m)\u001b[0m\u001b[0;34m:\u001b[0m\u001b[0;34m\u001b[0m\u001b[0;34m\u001b[0m\u001b[0m\n",
      "\u001b[0;32m~/anaconda3/envs/neuriot/lib/python3.9/site-packages/torch/autograd/__init__.py\u001b[0m in \u001b[0;36mbackward\u001b[0;34m(tensors, grad_tensors, retain_graph, create_graph, grad_variables, inputs)\u001b[0m\n\u001b[1;32m    143\u001b[0m         \u001b[0mretain_graph\u001b[0m \u001b[0;34m=\u001b[0m \u001b[0mcreate_graph\u001b[0m\u001b[0;34m\u001b[0m\u001b[0;34m\u001b[0m\u001b[0m\n\u001b[1;32m    144\u001b[0m \u001b[0;34m\u001b[0m\u001b[0m\n\u001b[0;32m--> 145\u001b[0;31m     Variable._execution_engine.run_backward(\n\u001b[0m\u001b[1;32m    146\u001b[0m         \u001b[0mtensors\u001b[0m\u001b[0;34m,\u001b[0m \u001b[0mgrad_tensors_\u001b[0m\u001b[0;34m,\u001b[0m \u001b[0mretain_graph\u001b[0m\u001b[0;34m,\u001b[0m \u001b[0mcreate_graph\u001b[0m\u001b[0;34m,\u001b[0m \u001b[0minputs\u001b[0m\u001b[0;34m,\u001b[0m\u001b[0;34m\u001b[0m\u001b[0;34m\u001b[0m\u001b[0m\n\u001b[1;32m    147\u001b[0m         allow_unreachable=True, accumulate_grad=True)  # allow_unreachable flag\n",
      "\u001b[0;31mKeyboardInterrupt\u001b[0m: "
     ]
    }
   ],
   "source": [
    "trainer.train()"
   ]
  },
  {
   "cell_type": "code",
   "execution_count": null,
   "id": "211748f3-2a03-458a-9a98-54a226f4fcef",
   "metadata": {},
   "outputs": [],
   "source": []
  }
 ],
 "metadata": {
  "kernelspec": {
   "display_name": "Python 3",
   "language": "python",
   "name": "python3"
  },
  "language_info": {
   "codemirror_mode": {
    "name": "ipython",
    "version": 3
   },
   "file_extension": ".py",
   "mimetype": "text/x-python",
   "name": "python",
   "nbconvert_exporter": "python",
   "pygments_lexer": "ipython3",
   "version": "3.9.7"
  }
 },
 "nbformat": 4,
 "nbformat_minor": 5
}
